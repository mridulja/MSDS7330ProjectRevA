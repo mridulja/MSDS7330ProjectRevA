{
 "cells": [
  {
   "cell_type": "code",
   "execution_count": 3,
   "metadata": {
    "collapsed": false
   },
   "outputs": [],
   "source": [
    "import pymongo\n",
    "from pymongo import MongoClient\n",
    "import json\n",
    "import string\n",
    "import operator \n",
    "from collections import Counter\n",
    "from collections import defaultdict\n",
    "import sys\n",
    "import os\n",
    "import tweepy\n",
    "import twitter\n",
    "from tweepy import Stream\n",
    "from tweepy.streaming import StreamListener\n",
    "import time\n",
    "from tweepy import OAuthHandler\n",
    "import re\n",
    "import nltk\n",
    "from nltk.tokenize import word_tokenize\n",
    "from nltk.corpus import stopwords\n",
    "import matplotlib.pyplot as plt\n",
    "import numpy as np\n",
    "import pandas\n",
    "from prettytable import PrettyTable"
   ]
  },
  {
   "cell_type": "code",
   "execution_count": 4,
   "metadata": {
    "collapsed": true
   },
   "outputs": [],
   "source": [
    "#Establishing the database connection to MongoDb Database for example \"twitter_db\"\n",
    "try:\n",
    "    client = MongoClient('localhost', 27017)\n",
    "    db = client['twitter_db']\n",
    "    collection = db['twitter_collection']\n",
    "except BaseException, e:\n",
    "    print str(e)\n",
    "    pass"
   ]
  },
  {
   "cell_type": "code",
   "execution_count": 5,
   "metadata": {
    "collapsed": false
   },
   "outputs": [
    {
     "name": "stdout",
     "output_type": "stream",
     "text": [
      "There are 71403 documents in users collection\n"
     ]
    }
   ],
   "source": [
    "# Find out how many tweets (documents) are in users collection, efficiently \n",
    "tweetcount = db.twitter_collection.find().count()\n",
    "print \"There are %d documents in users collection\" % tweetcount "
   ]
  },
  {
   "cell_type": "code",
   "execution_count": 6,
   "metadata": {
    "collapsed": false
   },
   "outputs": [],
   "source": [
    "tweets_iterator = collection.find()\n",
    "for tweet in tweets_iterator:\n",
    "    try:\n",
    "        tweet_text = ( tweet['text'])\n",
    "        user_screen_name = tweet['user']['screen_name']\n",
    "        user_name = tweet['user']['name']\n",
    "        retweet_count = tweet['retweeted_status']['retweet_count']\n",
    "        retweeted_name = tweet['retweeted_status']['user']['name']\n",
    "        retweeted_screen_name = tweet['retweeted_status']['user']['screen_name']\n",
    "    except:\n",
    "        pass"
   ]
  },
  {
   "cell_type": "code",
   "execution_count": 7,
   "metadata": {
    "collapsed": false
   },
   "outputs": [],
   "source": [
    "tweets_iterator = collection.find()\n",
    "retweets = [\n",
    "            # Store out a tuple of these three values ...\n",
    "            (status['retweeted_status']['retweet_count'], \n",
    "             status['retweeted_status']['user']['screen_name'],\n",
    "             status['text']) \n",
    "            \n",
    "            # ... for each status ...\n",
    "            for status in tweets_iterator \n",
    "            \n",
    "            # ... so long as the status meets this condition.\n",
    "                if status.has_key('retweeted_status')\n",
    "           ]"
   ]
  },
  {
   "cell_type": "code",
   "execution_count": 8,
   "metadata": {
    "collapsed": false
   },
   "outputs": [
    {
     "name": "stdout",
     "output_type": "stream",
     "text": [
      "+-------+-------------+----------------------------------------------------+\n",
      "| Count | Screen Name | Text                                               |\n",
      "+-------+-------------+----------------------------------------------------+\n",
      "| 4985  | Panthers    | RT @Panthers: Don't test him!!                     |\n",
      "|       |             |                                                    |\n",
      "|       |             | Another interception for #LUUUUKE! #CARvsDAL       |\n",
      "|       |             | https://t.co/E8AEn8Uc6N                            |\n",
      "| 4984  | Panthers    | RT @Panthers: Don't test him!!                     |\n",
      "|       |             |                                                    |\n",
      "|       |             | Another interception for #LUUUUKE! #CARvsDAL       |\n",
      "|       |             | https://t.co/E8AEn8Uc6N                            |\n",
      "| 4983  | Panthers    | RT @Panthers: Don't test him!!                     |\n",
      "|       |             |                                                    |\n",
      "|       |             | Another interception for #LUUUUKE! #CARvsDAL       |\n",
      "|       |             | https://t.co/E8AEn8Uc6N                            |\n",
      "| 4982  | Panthers    | RT @Panthers: Don't test him!!                     |\n",
      "|       |             |                                                    |\n",
      "|       |             | Another interception for #LUUUUKE! #CARvsDAL       |\n",
      "|       |             | https://t.co/E8AEn8Uc6N                            |\n",
      "| 4981  | Panthers    | RT @Panthers: Don't test him!!                     |\n",
      "|       |             |                                                    |\n",
      "|       |             | Another interception for #LUUUUKE! #CARvsDAL       |\n",
      "|       |             | https://t.co/E8AEn8Uc6N                            |\n",
      "| 4980  | Panthers    | RT @Panthers: Don't test him!!                     |\n",
      "|       |             |                                                    |\n",
      "|       |             | Another interception for #LUUUUKE! #CARvsDAL       |\n",
      "|       |             | https://t.co/E8AEn8Uc6N                            |\n",
      "| 4979  | Panthers    | RT @Panthers: Don't test him!!                     |\n",
      "|       |             |                                                    |\n",
      "|       |             | Another interception for #LUUUUKE! #CARvsDAL       |\n",
      "|       |             | https://t.co/E8AEn8Uc6N                            |\n",
      "| 4978  | Panthers    | RT @Panthers: Don't test him!!                     |\n",
      "|       |             |                                                    |\n",
      "|       |             | Another interception for #LUUUUKE! #CARvsDAL       |\n",
      "|       |             | https://t.co/E8AEn8Uc6N                            |\n",
      "| 4977  | Panthers    | RT @Panthers: Don't test him!!                     |\n",
      "|       |             |                                                    |\n",
      "|       |             | Another interception for #LUUUUKE! #CARvsDAL       |\n",
      "|       |             | https://t.co/E8AEn8Uc6N                            |\n",
      "| 4975  | Panthers    | RT @Panthers: Don't test him!!                     |\n",
      "|       |             |                                                    |\n",
      "|       |             | Another interception for #LUUUUKE! #CARvsDAL       |\n",
      "|       |             | https://t.co/E8AEn8Uc6N                            |\n",
      "+-------+-------------+----------------------------------------------------+\n"
     ]
    }
   ],
   "source": [
    "# Slice off the first 10 from the sorted results and display each item in the tuple\n",
    "\n",
    "pt = PrettyTable(field_names=['Count', 'Screen Name', 'Text'])\n",
    "[ pt.add_row(row) for row in sorted(retweets, reverse=True)[:10] ]\n",
    "pt.max_width['Text'] = 50\n",
    "pt.align= 'l'\n",
    "print pt"
   ]
  },
  {
   "cell_type": "code",
   "execution_count": 9,
   "metadata": {
    "collapsed": false
   },
   "outputs": [],
   "source": [
    "# Function to Pre-process the tweets\n",
    "# @-mentions, emoticons, URLs and #hash-tags are now preserved as individual tokens\n",
    "# We try to capture some emoticons, HTML tags, Twitter @usernames (@-mentions), \n",
    "# Twitter #hashtags, URLs, numbers, words with and without dashes and apostrophes, and finally “anything else”\n",
    "import re\n",
    "\n",
    "emoticons_str = r\"\"\"\n",
    "    (?:\n",
    "        [:=;] # Eyes\n",
    "        [oO\\-]? # Nose (optional)\n",
    "        [D\\)\\]\\(\\]/\\\\OpP] # Mouth\n",
    "    )\"\"\"\n",
    " \n",
    "regex_str = [\n",
    "    emoticons_str,\n",
    "    r'<[^>]+>', # HTML tags\n",
    "    r'(?:@[\\w_]+)', # @-mentions\n",
    "    r\"(?:\\#+[\\w_]+[\\w\\'_\\-]*[\\w_]+)\", # hash-tags\n",
    "    r'http[s]?://(?:[a-z]|[0-9]|[$-_@.&+]|[!*\\(\\),]|(?:%[0-9a-f][0-9a-f]))+', # URLs\n",
    " \n",
    "    r'(?:(?:\\d+,?)+(?:\\.?\\d+)?)', # numbers\n",
    "    r\"(?:[a-z][a-z'\\-_]+[a-z])\", # words with - and '\n",
    "    r'(?:[\\w_]+)', # other words\n",
    "    r'(?:\\S)' # anything else\n",
    "]\n",
    "    \n",
    "tokens_re = re.compile(r'('+'|'.join(regex_str)+')', re.VERBOSE | re.IGNORECASE)\n",
    "emoticon_re = re.compile(r'^'+emoticons_str+'$', re.VERBOSE | re.IGNORECASE)\n",
    " \n",
    "def tokenize(s):\n",
    "    return tokens_re.findall(s)\n",
    " \n",
    "def preprocess(s, lowercase=False):\n",
    "    tokens = tokenize(s)\n",
    "    if lowercase:\n",
    "        tokens = [token if emoticon_re.search(token) else token.lower() for token in tokens]\n",
    "    return tokens"
   ]
  },
  {
   "cell_type": "code",
   "execution_count": 10,
   "metadata": {
    "collapsed": false
   },
   "outputs": [],
   "source": [
    "#Function to pretty print the JSON file we have collected in the previous function call\n",
    "#this function is just for testing purposes to see that the JSON data is loaded from the file\n",
    "tweets_iterator = collection.find()\n",
    "for tweet in tweets_iterator:\n",
    "    try:\n",
    "        tokens = preprocess(tweet['text'])\n",
    "    except:\n",
    "        pass"
   ]
  },
  {
   "cell_type": "code",
   "execution_count": 11,
   "metadata": {
    "collapsed": false
   },
   "outputs": [
    {
     "name": "stdout",
     "output_type": "stream",
     "text": [
      "[u'RT', u'@dallascowboys', u'@ninjafast22', u'see', u'#CARvsDAL', u'https://t.co/3MGEYRWqSI']\n"
     ]
    }
   ],
   "source": [
    "#\"text\":\"RT @NFL: .@LukeKuechly Had a Day! #CARvsDAL https:\\/\\/t.co\\/MngpsMwpfz\"\n",
    "\n",
    "punctuation = list(string.punctuation)\n",
    "stop = stopwords.words('english') + punctuation + ['rt', 'via']\n",
    "terms_stop = [term for term in preprocess(tweet['text']) if term not in stop]\n",
    "print terms_stop"
   ]
  },
  {
   "cell_type": "code",
   "execution_count": 12,
   "metadata": {
    "collapsed": false
   },
   "outputs": [
    {
     "name": "stdout",
     "output_type": "stream",
     "text": [
      "[(u'#CARvsDAL', 132896), (u'RT', 54830), (u'@Panthers', 23874), (u'#Panthers', 16314), (u'@NFL', 16046), (u'\\ud83d', 13341), (u'#LUUUUKE', 10386), (u'Romo', 8729), (u'@dallascowboys', 8240), (u'6', 7853)]\n",
      "[(u'#CARvsDAL', 66448), (u'#Panthers', 8157), (u'#LUUUUKE', 5193), (u'#KeepPounding', 3033), (u'#Cowboys', 2901), (u'#Pick6', 1132), (u'#LUUUUUUKE', 1046), (u'#Picked', 1020), (u'#NFL', 748), (u'#TOUCHDOWN', 707)]\n",
      "[(u'RT', 109660), (u'\\ud83d', 26682), (u'Romo', 17458), (u'6', 15706), (u'Tony', 13614), (u'\\u2026', 11710), (u'Newton', 11424), (u'Luke', 10644), (u'Dab', 9458), (u'30', 9436)]\n"
     ]
    }
   ],
   "source": [
    "tweets_iterator = collection.find()\n",
    "count_all = Counter()\n",
    "count_all_hash = Counter()\n",
    "count_all_terms = Counter()\n",
    "for tweet in tweets_iterator:\n",
    "    try: \n",
    "        # Create a list with all the terms\n",
    "        terms_all = [term for term in preprocess(tweet['text']) if term not in stop]\n",
    "        # Update the counter\n",
    "        count_all.update(terms_all)\n",
    "        # Count terms only once, equivalent to Document Frequency\n",
    "        terms_single = set(terms_all)\n",
    "        # Count hashtags only\n",
    "        terms_hash = [term for term in preprocess(tweet['text']) if term.startswith('#')]\n",
    "        count_all_hash.update(terms_hash)\n",
    "        count_all.update(terms_hash)\n",
    "        # Count terms only (no hashtags, no mentions)\n",
    "        terms_only = [term for term in preprocess(tweet['text']) if term not in stop and not term.startswith(('#', '@'))] \n",
    "        count_all_terms.update(terms_only)\n",
    "        count_all_terms.update(terms_only)\n",
    "    except:\n",
    "        pass\n",
    "\n",
    "# Print the first 5 most frequent words\n",
    "print(count_all.most_common(10))\n",
    "print(count_all_hash.most_common(10))\n",
    "print(count_all_terms.most_common(10))"
   ]
  },
  {
   "cell_type": "code",
   "execution_count": 13,
   "metadata": {
    "collapsed": true
   },
   "outputs": [],
   "source": [
    "def per_minute(SearchKeyword):\n",
    "    dates_SearchKeyword = []\n",
    "    # f is the file pointer to the JSON data set\n",
    "    tweets_iterator = collection.find()\n",
    "    for tweet in tweets_iterator:\n",
    "        try:\n",
    "            # let's focus on hashtags only at the moment\n",
    "            terms_hash = [term for term in preprocess(tweet['text']) if term.startswith('#')]\n",
    "            # track when the hashtag is mentioned\n",
    "            if '#' + SearchKeyword in terms_hash:\n",
    "                dates_SearchKeyword.append(tweet['created_at'])\n",
    "        except:\n",
    "            pass\n",
    "\n",
    "    # a list of \"1\" to count the hashtags\n",
    "    ones = [1]*len(dates_SearchKeyword)\n",
    "    # the index of the series\n",
    "    idx = pandas.DatetimeIndex(dates_SearchKeyword)\n",
    "    # the actual series (at series of 1s for the moment)\n",
    "    SearchKeyword = pandas.Series(ones, index=idx)\n",
    "\n",
    "    # Resampling / bucketing\n",
    "    per_minute_freq = SearchKeyword.resample('1Min', how='sum').fillna(0)\n",
    "    return per_minute_freq"
   ]
  },
  {
   "cell_type": "code",
   "execution_count": 14,
   "metadata": {
    "collapsed": true
   },
   "outputs": [],
   "source": [
    "per_minute_CARvsDAL = per_minute('CARvsDAL')\n",
    "per_minute_Cowboys = per_minute('Cowboys')\n",
    "per_minute_Panthers = per_minute('Panthers')\n",
    "per_minute_TOUCHDOWN = per_minute('TOUCHDOWN')"
   ]
  },
  {
   "cell_type": "code",
   "execution_count": 15,
   "metadata": {
    "collapsed": false
   },
   "outputs": [
    {
     "data": {
      "text/plain": [
       "<matplotlib.figure.Figure at 0x211e90f0>"
      ]
     },
     "metadata": {},
     "output_type": "display_data"
    },
    {
     "data": {
      "image/png": "[encoded data removed]",
      "text/plain": [
       "<matplotlib.figure.Figure at 0x20ea3550>"
      ]
     },
     "metadata": {},
     "output_type": "display_data"
    }
   ],
   "source": [
    "%matplotlib inline\n",
    "# all the data together\n",
    "match_data = dict(CARvsDAL=per_minute_CARvsDAL, Cowboys=per_minute_Cowboys, Panthers=per_minute_Panthers,\n",
    "                  TOUCHDOWN=per_minute_TOUCHDOWN)\n",
    "# we need a DataFrame, to accommodate multiple series\n",
    "all_matches = pandas.DataFrame(data=match_data,\n",
    "                               index=per_minute_CARvsDAL.index)\n",
    "# Resampling as above\n",
    "all_matches = all_matches.resample('1Min', how='sum').fillna(0)\n",
    "\n",
    "columns_list = ['CARvsDAL','Cowboys','Panthers', 'TOUCHDOWN']\n",
    "df = pandas.DataFrame(all_matches, columns=columns_list)\n",
    "plt.figure()\n",
    "df.plot()\n",
    "plt.show()"
   ]
  },
  {
   "cell_type": "code",
   "execution_count": 16,
   "metadata": {
    "collapsed": true
   },
   "outputs": [],
   "source": [
    "com = defaultdict(lambda : defaultdict(int))\n",
    "tweets_iterator = collection.find()\n",
    "for tweet in tweets_iterator: \n",
    "    try:\n",
    "        terms_only = [term for term in preprocess(tweet['text']) \n",
    "                  if term not in stop \n",
    "                  and not term.startswith(('#', '@'))]\n",
    "    except:\n",
    "        pass\n",
    "    # Build co-occurrence matrix\n",
    "    for i in range(len(terms_only)-1):            \n",
    "        for j in range(i+1, len(terms_only)):\n",
    "            w1, w2 = sorted([terms_only[i], terms_only[j]])                \n",
    "            if w1 != w2:\n",
    "                com[w1][w2] += 1"
   ]
  },
  {
   "cell_type": "code",
   "execution_count": 17,
   "metadata": {
    "collapsed": false
   },
   "outputs": [
    {
     "name": "stdout",
     "output_type": "stream",
     "text": [
      "[((u'\\ud83d', u'\\udd25'), 53208), ((u'Dab', u'Newton'), 9340), ((u'RT', u'\\ud83d'), 7890), ((u'6', u'RT'), 7345), ((u'Romo', u'Tony'), 5555), ((u'Newton', u'RT'), 5244), ((u'30', u'6'), 4721), ((u'Luke', u'RT'), 4534), ((u'Kuechly', u'Luke'), 4523), ((u'Another', u'RT'), 4308)]\n"
     ]
    }
   ],
   "source": [
    "com_max = []\n",
    "# For each term, look for the most common co-occurrent terms\n",
    "for t1 in com:\n",
    "    t1_max_terms = max(com[t1].items(), key=operator.itemgetter(1))[:10]\n",
    "    for t2 in t1_max_terms:\n",
    "        com_max.append(((t1, t2), com[t1][t2]))\n",
    "# Get the most frequent co-occurrences\n",
    "terms_max = sorted(com_max, key=operator.itemgetter(1), reverse=True)\n",
    "print(terms_max[:10])"
   ]
  },
  {
   "cell_type": "code",
   "execution_count": 24,
   "metadata": {
    "collapsed": false
   },
   "outputs": [
    {
     "name": "stdout",
     "output_type": "stream",
     "text": [
      "Co-occurrence for KFC:\n",
      "[]\n"
     ]
    }
   ],
   "source": [
    "search_word = \"KFC\" # pass a search term\n",
    "count_search = Counter()\n",
    "tweets_iterator = collection.find()\n",
    "for tweet in tweets_iterator: \n",
    "    try:\n",
    "        terms_only = [term for term in preprocess(tweet['text']) if term not in stop and not term.startswith(('#', '@'))]\n",
    "        if search_word in terms_only:\n",
    "            count_search.update(terms_only)\n",
    "    except:\n",
    "        pass\n",
    "print(\"Co-occurrence for %s:\" % search_word)\n",
    "print(count_search.most_common(20))"
   ]
  },
  {
   "cell_type": "code",
   "execution_count": 19,
   "metadata": {
    "collapsed": false
   },
   "outputs": [
    {
     "name": "stdout",
     "output_type": "stream",
     "text": [
      "((u'\\ud83d', u'\\udd25'), (u'Dab', u'Newton'), (u'RT', u'\\ud83d'), (u'6', u'RT'), (u'Romo', u'Tony'), (u'Newton', u'RT'), (u'30', u'6'), (u'Luke', u'RT'), (u'Kuechly', u'Luke'), (u'Another', u'RT'), (u'\\ud83c', u'\\ud83d'), (u\"Don't\", u'RT'), (u'interception', u'test'), (u'https://t.co/E8AEn8Uc6N', u'test'), (u'2', u'RT'), (u'Cam', u'RT'), (u'3', u'RT'), (u'dance', u'name'), (u'Who', u'wants'), (u'idea', u'wants')) (53208, 9340, 7890, 7345, 5555, 5244, 4721, 4534, 4523, 4308, 4094, 4088, 4075, 4068, 3667, 3519, 3407, 3277, 3274, 3273)\n"
     ]
    }
   ],
   "source": [
    "#Plotting the most frequent words\n",
    "word_freq = terms_max[:20]\n",
    "labels, freq = zip(*word_freq)\n",
    "print labels, freq"
   ]
  },
  {
   "cell_type": "code",
   "execution_count": 20,
   "metadata": {
    "collapsed": false
   },
   "outputs": [
    {
     "data": {
      "image/png": "[encoded data removed]",
      "text/plain": [
       "<matplotlib.figure.Figure at 0x1f417c18>"
      ]
     },
     "metadata": {},
     "output_type": "display_data"
    }
   ],
   "source": [
    "#Plot the top two words frequency as a bar chart\n",
    "n_groups = 20\n",
    "\n",
    "fig, ax = plt.subplots()\n",
    "\n",
    "index = np.arange(n_groups)\n",
    "bar_width = 0.35\n",
    "\n",
    "opacity = 0.4\n",
    "error_config = {'ecolor': '0.3'}\n",
    "\n",
    "rects1 = plt.bar(index, freq, bar_width,\n",
    "                 alpha=opacity,\n",
    "                 color='b',\n",
    "                 error_kw=error_config,\n",
    "                 label='Top 2-words together')\n",
    "\n",
    "plt.xlabel('labels')\n",
    "plt.ylabel('freq')\n",
    "plt.xticks(index + bar_width, (labels))\n",
    "ax.set_xticklabels( labels, rotation=90, va='center' ) ;\n",
    "plt.legend()\n",
    "\n",
    "plt.tight_layout()\n",
    "plt.show()"
   ]
  },
  {
   "cell_type": "code",
   "execution_count": 21,
   "metadata": {
    "collapsed": false
   },
   "outputs": [
    {
     "ename": "NameError",
     "evalue": "name 'popular_tweets' is not defined",
     "output_type": "error",
     "traceback": [
      "\u001b[1;31m---------------------------------------------------------------------------\u001b[0m",
      "\u001b[1;31mNameError\u001b[0m                                 Traceback (most recent call last)",
      "\u001b[1;32m<ipython-input-21-74dee76a527c>\u001b[0m in \u001b[0;36m<module>\u001b[1;34m()\u001b[0m\n\u001b[0;32m      8\u001b[0m         \u001b[1;32mpass\u001b[0m\u001b[1;33m\u001b[0m\u001b[0m\n\u001b[0;32m      9\u001b[0m \u001b[1;33m\u001b[0m\u001b[0m\n\u001b[1;32m---> 10\u001b[1;33m \u001b[1;32mfor\u001b[0m \u001b[0mtweet\u001b[0m \u001b[1;32min\u001b[0m \u001b[0mpopular_tweets\u001b[0m\u001b[1;33m:\u001b[0m\u001b[1;33m\u001b[0m\u001b[0m\n\u001b[0m\u001b[0;32m     11\u001b[0m     \u001b[1;32mprint\u001b[0m \u001b[0mtweet\u001b[0m\u001b[1;33m[\u001b[0m\u001b[1;34m'text'\u001b[0m\u001b[1;33m]\u001b[0m\u001b[1;33m,\u001b[0m \u001b[0mtweet\u001b[0m\u001b[1;33m[\u001b[0m\u001b[1;34m'retweet_count'\u001b[0m\u001b[1;33m]\u001b[0m\u001b[1;33m\u001b[0m\u001b[0m\n",
      "\u001b[1;31mNameError\u001b[0m: name 'popular_tweets' is not defined"
     ]
    }
   ],
   "source": [
    "retweet_threshold = 3\n",
    "tweets_iterator = collection.find()\n",
    "for tweet in tweets_iterator:\n",
    "    try: \n",
    "        # Create a list with all the terms\n",
    "        popular_tweets = [ status for status in tweet if status['retweet_count'] > retweet_threshold ] \n",
    "    except:\n",
    "        pass\n",
    "    \n",
    "for tweet in popular_tweets:\n",
    "    print tweet['text'], tweet['retweet_count']"
   ]
  },
  {
   "cell_type": "code",
   "execution_count": 22,
   "metadata": {
    "collapsed": false
   },
   "outputs": [
    {
     "ename": "KeyError",
     "evalue": "'retweeted_status.retweet_count'",
     "output_type": "error",
     "traceback": [
      "\u001b[1;31m---------------------------------------------------------------------------\u001b[0m",
      "\u001b[1;31mKeyError\u001b[0m                                  Traceback (most recent call last)",
      "\u001b[1;32m<ipython-input-22-cdf6f7f17b53>\u001b[0m in \u001b[0;36m<module>\u001b[1;34m()\u001b[0m\n\u001b[0;32m      3\u001b[0m \u001b[1;32mfor\u001b[0m \u001b[0mtweet\u001b[0m \u001b[1;32min\u001b[0m \u001b[0mtweets_iterator\u001b[0m\u001b[1;33m:\u001b[0m\u001b[1;33m\u001b[0m\u001b[0m\n\u001b[0;32m      4\u001b[0m     \u001b[1;31m# Create a list with all the terms\u001b[0m\u001b[1;33m\u001b[0m\u001b[1;33m\u001b[0m\u001b[0m\n\u001b[1;32m----> 5\u001b[1;33m     \u001b[1;32mif\u001b[0m \u001b[0mtweet\u001b[0m\u001b[1;33m[\u001b[0m\u001b[1;34m'retweeted_status.retweet_count'\u001b[0m\u001b[1;33m]\u001b[0m \u001b[1;33m>\u001b[0m \u001b[0mretweet_threshold\u001b[0m\u001b[1;33m:\u001b[0m\u001b[1;33m\u001b[0m\u001b[0m\n\u001b[0m\u001b[0;32m      6\u001b[0m         \u001b[1;32mprint\u001b[0m \u001b[1;33m(\u001b[0m\u001b[0mtweet\u001b[0m\u001b[1;33m[\u001b[0m\u001b[1;34m'text'\u001b[0m\u001b[1;33m]\u001b[0m\u001b[1;33m,\u001b[0m \u001b[0mtweet\u001b[0m\u001b[1;33m[\u001b[0m\u001b[1;34m'retweeted_status.retweet_count'\u001b[0m\u001b[1;33m]\u001b[0m\u001b[1;33m)\u001b[0m\u001b[1;33m\u001b[0m\u001b[0m\n\u001b[0;32m      7\u001b[0m     \u001b[1;32melse\u001b[0m\u001b[1;33m:\u001b[0m\u001b[1;33m\u001b[0m\u001b[0m\n",
      "\u001b[1;31mKeyError\u001b[0m: 'retweeted_status.retweet_count'"
     ]
    }
   ],
   "source": [
    "retweet_threshold = 20\n",
    "tweets_iterator = collection.find()\n",
    "for tweet in tweets_iterator:\n",
    "    # Create a list with all the terms\n",
    "    if tweet['retweeted_status.retweet_count'] > retweet_threshold:\n",
    "        print (tweet['text'], tweet['retweeted_status.retweet_count'])\n",
    "    else:\n",
    "        pass"
   ]
  },
  {
   "cell_type": "code",
   "execution_count": null,
   "metadata": {
    "collapsed": false
   },
   "outputs": [],
   "source": [
    "retweet_threshold = 3\n",
    "tweets_iterator = collection.find()\n",
    "for tweetObj in tweets_iterator:\n",
    "    keys =  tweetObj.keys()\n",
    "    if 'retweet_count' in tweetObj and tweetObj['retweet_count'] >= retweet_threshold:\n",
    "        print tweetObj['text'] \n",
    "        print tweetObj['retweet_count']\n",
    "    else:\n",
    "        pass"
   ]
  },
  {
   "cell_type": "code",
   "execution_count": null,
   "metadata": {
    "collapsed": true
   },
   "outputs": [],
   "source": []
  }
 ],
 "metadata": {
  "kernelspec": {
   "display_name": "Python 2",
   "language": "python",
   "name": "python2"
  },
  "language_info": {
   "codemirror_mode": {
    "name": "ipython",
    "version": 2
   },
   "file_extension": ".py",
   "mimetype": "text/x-python",
   "name": "python",
   "nbconvert_exporter": "python",
   "pygments_lexer": "ipython2",
   "version": "2.7.10"
  }
 },
 "nbformat": 4,
 "nbformat_minor": 0
}
